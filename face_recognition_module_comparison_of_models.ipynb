{
  "nbformat": 4,
  "nbformat_minor": 0,
  "metadata": {
    "colab": {
      "name": "face_recognition module comparison of models.ipynb",
      "provenance": [],
      "collapsed_sections": [],
      "include_colab_link": true
    },
    "kernelspec": {
      "name": "python3",
      "display_name": "Python 3"
    },
    "accelerator": "GPU"
  },
  "cells": [
    {
      "cell_type": "markdown",
      "metadata": {
        "id": "view-in-github",
        "colab_type": "text"
      },
      "source": [
        "<a href=\"https://colab.research.google.com/github/tuxnani/face-recognition/blob/main/face_recognition_module_comparison_of_models.ipynb\" target=\"_parent\"><img src=\"https://colab.research.google.com/assets/colab-badge.svg\" alt=\"Open In Colab\"/></a>"
      ]
    },
    {
      "cell_type": "code",
      "metadata": {
        "id": "oV_qZ3Q7BI0o",
        "colab": {
          "base_uri": "https://localhost:8080/"
        },
        "outputId": "368a2051-693f-4235-f7e3-84907e1dc467"
      },
      "source": [
        "!pip install face_recognition"
      ],
      "execution_count": 1,
      "outputs": [
        {
          "output_type": "stream",
          "text": [
            "Collecting face_recognition\n",
            "  Downloading https://files.pythonhosted.org/packages/1e/95/f6c9330f54ab07bfa032bf3715c12455a381083125d8880c43cbe76bb3d0/face_recognition-1.3.0-py2.py3-none-any.whl\n",
            "Requirement already satisfied: Pillow in /usr/local/lib/python3.7/dist-packages (from face_recognition) (7.0.0)\n",
            "Collecting face-recognition-models>=0.3.0\n",
            "\u001b[?25l  Downloading https://files.pythonhosted.org/packages/cf/3b/4fd8c534f6c0d1b80ce0973d01331525538045084c73c153ee6df20224cf/face_recognition_models-0.3.0.tar.gz (100.1MB)\n",
            "\u001b[K     |████████████████████████████████| 100.2MB 41kB/s \n",
            "\u001b[?25hRequirement already satisfied: Click>=6.0 in /usr/local/lib/python3.7/dist-packages (from face_recognition) (7.1.2)\n",
            "Requirement already satisfied: numpy in /usr/local/lib/python3.7/dist-packages (from face_recognition) (1.19.5)\n",
            "Requirement already satisfied: dlib>=19.7 in /usr/local/lib/python3.7/dist-packages (from face_recognition) (19.18.0)\n",
            "Building wheels for collected packages: face-recognition-models\n",
            "  Building wheel for face-recognition-models (setup.py) ... \u001b[?25l\u001b[?25hdone\n",
            "  Created wheel for face-recognition-models: filename=face_recognition_models-0.3.0-py2.py3-none-any.whl size=100566173 sha256=e0d275e67bd26ca9d006ebbfad04252dd9f67698c96b0ea53007c4bbfd507c8f\n",
            "  Stored in directory: /root/.cache/pip/wheels/d2/99/18/59c6c8f01e39810415c0e63f5bede7d83dfb0ffc039865465f\n",
            "Successfully built face-recognition-models\n",
            "Installing collected packages: face-recognition-models, face-recognition\n",
            "Successfully installed face-recognition-1.3.0 face-recognition-models-0.3.0\n"
          ],
          "name": "stdout"
        }
      ]
    },
    {
      "cell_type": "code",
      "metadata": {
        "id": "iziG-TntBiGl"
      },
      "source": [
        "from PIL import Image\n",
        "import face_recognition\n",
        "import urllib.request\n",
        "import time"
      ],
      "execution_count": 2,
      "outputs": []
    },
    {
      "cell_type": "code",
      "metadata": {
        "id": "fPrqMGUqFdgT"
      },
      "source": [
        "from google.colab.patches import cv2_imshow"
      ],
      "execution_count": 3,
      "outputs": []
    },
    {
      "cell_type": "code",
      "metadata": {
        "id": "j7qO6TrpBfeR"
      },
      "source": [
        "response = urllib.request.urlopen(\"https://upload.wikimedia.org/wikipedia/commons/e/e2/TEDxEsinoLario2018_Silvio_Sandonini_DSC_9171_08.jpg\")\n",
        "# https://upload.wikimedia.org/wikipedia/commons/thumb/1/10/Wmcon2012_group_photo.jpg/1280px-Wmcon2012_group_photo.jpg \")\n",
        "# Use https://upload.wikimedia.org/wikipedia/commons/1/10/Wmcon2012_group_photo.jpg \n",
        "# Use https://upload.wikimedia.org/wikipedia/commons/thumb/1/10/Wmcon2012_group_photo.jpg/1280px-Wmcon2012_group_photo.jpg\n",
        "# Use https://cdn-5d0b8444f911d10dc8cfba51.closte.com/wp-content/uploads/sites/101/2017/04/KenMar-Photography-Inc-Family-StumpfAnnTom-Fam-9097-1400x904.jpg\n",
        "image = face_recognition.load_image_file(response)"
      ],
      "execution_count": 4,
      "outputs": []
    },
    {
      "cell_type": "code",
      "metadata": {
        "id": "emie0c0HFCH0",
        "colab": {
          "base_uri": "https://localhost:8080/"
        },
        "outputId": "7e58cc40-2a6e-4d3b-af89-465b88229748"
      },
      "source": [
        "begin_time = time.time()\n",
        "face_locations = face_recognition.api.face_locations(image, number_of_times_to_upsample=1, model='hog')\n",
        "print(\"Found {} face(s) in this photograph.\".format(len(face_locations)))\n",
        "print (\"It took \", time.time() - begin_time, \"seconds for hog.\")"
      ],
      "execution_count": 5,
      "outputs": [
        {
          "output_type": "stream",
          "text": [
            "Found 97 face(s) in this photograph.\n",
            "It took  11.553527116775513 seconds for hog.\n"
          ],
          "name": "stdout"
        }
      ]
    },
    {
      "cell_type": "code",
      "metadata": {
        "id": "htibB82NKSzg",
        "colab": {
          "base_uri": "https://localhost:8080/"
        },
        "outputId": "9846894f-1e25-4af7-c1bc-502d67b8d727"
      },
      "source": [
        "begin_time = time.time()\n",
        "face_locations = face_recognition.api.face_locations(image, number_of_times_to_upsample=1, model='small')\n",
        "print(\"Found {} face(s) in this photograph.\".format(len(face_locations)))\n",
        "print (\"It took \", time.time() - begin_time, \"seconds for five landmark model.\")"
      ],
      "execution_count": 6,
      "outputs": [
        {
          "output_type": "stream",
          "text": [
            "Found 97 face(s) in this photograph.\n",
            "It took  11.47710371017456 seconds for five landmark model.\n"
          ],
          "name": "stdout"
        }
      ]
    },
    {
      "cell_type": "code",
      "metadata": {
        "id": "lJvr0Jl5CMHt",
        "colab": {
          "base_uri": "https://localhost:8080/"
        },
        "outputId": "cf7a945f-4692-4f4b-e4b7-fe6099b14cf6"
      },
      "source": [
        "begin_time = time.time()\n",
        "face_locations = face_recognition.api.face_locations(image, number_of_times_to_upsample=1, model='large')\n",
        "print(\"Found {} faces in this photograph.\".format(len(face_locations)))\n",
        "print (\"It took \", time.time() - begin_time, \"seconds for 68 landmark model.\")"
      ],
      "execution_count": 7,
      "outputs": [
        {
          "output_type": "stream",
          "text": [
            "Found 97 faces in this photograph.\n",
            "It took  11.519010305404663 seconds for 68 landmark model.\n"
          ],
          "name": "stdout"
        }
      ]
    },
    {
      "cell_type": "code",
      "metadata": {
        "id": "ibwHer39FAIM",
        "colab": {
          "base_uri": "https://localhost:8080/"
        },
        "outputId": "e91a9b37-552e-42a7-d3c9-e18fb97fc2a1"
      },
      "source": [
        "begin_time = time.time()\n",
        "face_locations = face_recognition.api.face_locations(image, model='cnn')\n",
        "print(\"Found {} face(s) in this photograph.\".format(len(face_locations)))\n",
        "print (\"It took \", time.time() - begin_time, \"seconds for cnn.\")"
      ],
      "execution_count": 8,
      "outputs": [
        {
          "output_type": "stream",
          "text": [
            "Found 109 face(s) in this photograph.\n",
            "It took  12.155040502548218 seconds for cnn.\n"
          ],
          "name": "stdout"
        }
      ]
    },
    {
      "cell_type": "code",
      "metadata": {
        "id": "-PbqNQKfhsjS"
      },
      "source": [
        ""
      ],
      "execution_count": null,
      "outputs": []
    }
  ]
}